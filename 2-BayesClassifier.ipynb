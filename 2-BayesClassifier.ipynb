{
 "cells": [
  {
   "cell_type": "markdown",
   "metadata": {},
   "source": [
    "### 1."
   ]
  },
  {
   "cell_type": "code",
   "execution_count": 1,
   "metadata": {},
   "outputs": [],
   "source": [
    "# Load the training.txt validation.txt test1.txt and test.txt dataset files into Python data frames and the two list files into lists.\n",
    "# (Please do NOT shuffle the data frames)\n",
    "\n",
    "import pandas as pd\n",
    "\n",
    "training_df = pd.read_csv('training.txt')\n",
    "validation_df = pd.read_csv('validation.txt')\n",
    "test1_df = pd.read_csv('test1.txt')\n",
    "test2_df = pd.read_csv('test2.txt')\n",
    "\n",
    "\n",
    "# Load censored lists\n",
    "def load_list(file_name):\n",
    "    with open(file_name, \"r\") as f:\n",
    "        return [line.strip() for line in f]\n",
    "\n",
    "censored_list_test1 = load_list(\"censored_list_test1.txt\")\n",
    "censored_list_test2 = load_list(\"censored_list_test2.txt\")"
   ]
  },
  {
   "cell_type": "markdown",
   "metadata": {},
   "source": [
    "### 2."
   ]
  },
  {
   "cell_type": "code",
   "execution_count": 2,
   "metadata": {},
   "outputs": [
    {
     "name": "stdout",
     "output_type": "stream",
     "text": [
      "  label                                                sms\n",
      "0   ham  hi darlin i cantdo anythingtomorrow as myparen...\n",
      "1   ham                  kkhow about your training process\n",
      "2   ham  k actually can you guys meet me at the sunoco ...\n",
      "3   ham                             ok lor msg me b u call\n",
      "4  spam                    freemsgfav xmas tonesreply real\n"
     ]
    }
   ],
   "source": [
    "# Step 2: Pre-process the SMS messages\n",
    "import string\n",
    "\n",
    "def preprocess_message(message):\n",
    "    # Remove punctuation and numbers\n",
    "    message = message.translate(str.maketrans(\"\", \"\", string.punctuation + string.digits))\n",
    "    # Convert to lowercase\n",
    "    return message.lower()\n",
    "\n",
    "# Apply the preprocessing function to all datasets\n",
    "training_df[\"sms\"] = training_df[\"sms\"].apply(preprocess_message)\n",
    "validation_df[\"sms\"] = validation_df[\"sms\"].apply(preprocess_message)\n",
    "test1_df[\"sms\"] = test1_df[\"sms\"].apply(preprocess_message)\n",
    "test2_df[\"sms\"] = test2_df[\"sms\"].apply(preprocess_message)\n",
    "\n",
    "# Display the first few rows of each dataset to ensure preprocessing is correct\n",
    "print(training_df.head())\n",
    "\n"
   ]
  },
  {
   "cell_type": "markdown",
   "metadata": {},
   "source": [
    "### 4"
   ]
  },
  {
   "cell_type": "code",
   "execution_count": 60,
   "metadata": {},
   "outputs": [],
   "source": [
    "import numpy as np\n",
    "import pandas as pd\n",
    "class NaiveBayesForSpam:\n",
    "    def train (self, hamMessages, spamMessages):\n",
    "        self.words = set(' '.join (hamMessages + spamMessages).split())\n",
    "        self.priors = np.zeros (2)\n",
    "        self.priors[0] = float (len (hamMessages)) / (len (hamMessages) + len (spamMessages))\n",
    "        self.priors[1] = 1.0 - self.priors[0]\n",
    "        self.likelihoods = []\n",
    "        for i, w in enumerate (self.words):\n",
    "            prob1 = (1.0 + len ([m for m in hamMessages if w in m])) / len (hamMessages)\n",
    "            prob2 = (1.0 + len ([m for m in spamMessages if w in m])) / len (spamMessages)\n",
    "            self.likelihoods.append ([min (prob1, 0.95), min (prob2, 0.95)])\n",
    "        self.likelihoods = np.array (self.likelihoods).T\n",
    "        \n",
    "    def train2 (self, hamMessages, spamMessages):\n",
    "        self.words = set (' '.join (hamMessages + spamMessages).split())\n",
    "        self.priors = np.zeros (2)\n",
    "        self.priors[0] = float (len (hamMessages)) / (len (hamMessages) + len (spamMessages))\n",
    "        self.priors[1] = 1.0 - self.priors[0]\n",
    "        self.likelihoods = []\n",
    "        spamkeywords = []\n",
    "        for i, w in enumerate (self.words):\n",
    "            prob1 = (1.0 + len ([m for m in hamMessages if w in m])) / len (hamMessages)\n",
    "            prob2 = (1.0 + len ([m for m in spamMessages if w in m])) / len (spamMessages)\n",
    "            if prob1 * 20 < prob2:\n",
    "                self.likelihoods.append ([min (prob1, 0.95), min (prob2, 0.95)])\n",
    "                spamkeywords.append(w)\n",
    "        self.words = spamkeywords\n",
    "        self.likelihoods = np.array (self.likelihoods).T\n",
    "\n",
    "    def predict (self, message):\n",
    "        posteriors = np.copy (self.priors)\n",
    "        for i, w in enumerate (self.words):\n",
    "            if w in message.lower():  # convert to lower-case\n",
    "                posteriors *= self.likelihoods[:,i]\n",
    "            else:                                   \n",
    "                posteriors *= np.ones (2) - self.likelihoods[:,i]\n",
    "            posteriors = posteriors / np.linalg.norm (posteriors)  # normalise\n",
    "        if posteriors[1] > 0.5:\n",
    "            return ['spam', posteriors[1]]\n",
    "        return ['ham', posteriors[0]]    \n",
    "\n",
    "    def score(self, messages, labels):\n",
    "        confusion = np.zeros(4).reshape(2, 2)\n",
    "        for m, l in zip(messages, labels):\n",
    "            prediction = self.predict(m)[0]  # Call self.predict only once\n",
    "            if prediction == 'ham' and l == 'ham':\n",
    "                confusion[0, 0] += 1\n",
    "            elif prediction == 'ham' and l == 'spam':\n",
    "                confusion[0, 1] += 1\n",
    "            elif prediction == 'spam' and l == 'ham':\n",
    "                confusion[1, 0] += 1\n",
    "            elif prediction == 'spam' and l == 'spam':\n",
    "                confusion[1, 1] += 1\n",
    "        return (confusion[0, 0] + confusion[1, 1]) / float(confusion.sum()), confusion\n",
    "\n"
   ]
  },
  {
   "cell_type": "markdown",
   "metadata": {},
   "source": [
    "### 5"
   ]
  },
  {
   "cell_type": "code",
   "execution_count": 57,
   "metadata": {},
   "outputs": [
    {
     "name": "stdout",
     "output_type": "stream",
     "text": [
      "Training completed for both classifiers.\n",
      "Training time for train1 classifier: 1.5821468830108643\n",
      "Training time for train2 classifier: 0.9254882335662842\n"
     ]
    }
   ],
   "source": [
    "import time\n",
    "# Separate ham and spam messages\n",
    "training_hamMessages = training_df[training_df[\"label\"] == \"ham\"][\"sms\"].tolist()\n",
    "training_spamMessages = training_df[training_df[\"label\"] == \"spam\"][\"sms\"].tolist()\n",
    "\n",
    "start_time1 = time.time()\n",
    "classifier1 = NaiveBayesForSpam()\n",
    "classifier1.train(training_hamMessages, training_spamMessages)\n",
    "train_time1 = time.time() - start_time1\n",
    "\n",
    "start_time2 = time.time()\n",
    "classifier2 = NaiveBayesForSpam()\n",
    "classifier2.train2(training_hamMessages, training_spamMessages)\n",
    "train_time2 = time.time() - start_time2\n",
    "print(\"Training completed for both classifiers.\")\n",
    "print(\"Training time for train1 classifier:\", train_time1)\n",
    "print(\"Training time for train2 classifier:\", train_time2)"
   ]
  },
  {
   "cell_type": "markdown",
   "metadata": {},
   "source": [
    "### 6"
   ]
  },
  {
   "cell_type": "code",
   "execution_count": 58,
   "metadata": {},
   "outputs": [
    {
     "name": "stdout",
     "output_type": "stream",
     "text": [
      "Classifier 1 (train):\n",
      "Accuracy: 0.956\n",
      "Confusion Matrix:\n",
      " [[845.  29.]\n",
      " [ 15. 111.]]\n",
      "Classifier 2 (train2):\n",
      "Accuracy: 0.963\n",
      "Confusion Matrix:\n",
      " [[857.  34.]\n",
      " [  3. 106.]]\n"
     ]
    }
   ],
   "source": [
    "# Step 3: Evaluate classifiers on the validation set\n",
    "validation_messages = validation_df[\"sms\"].tolist()\n",
    "validation_labels = validation_df[\"label\"].tolist()\n",
    "\n",
    "accuracy1, confusion1 = classifier1.score(validation_messages, validation_labels)\n",
    "accuracy2, confusion2 = classifier2.score(validation_messages, validation_labels)\n",
    "\n",
    "print(\"Classifier 1 (train):\")\n",
    "print(\"Accuracy:\", accuracy1)\n",
    "print(\"Confusion Matrix:\\n\", confusion1)\n",
    "\n",
    "print(\"Classifier 2 (train2):\")\n",
    "print(\"Accuracy:\", accuracy2)\n",
    "print(\"Confusion Matrix:\\n\", confusion2)"
   ]
  },
  {
   "cell_type": "markdown",
   "metadata": {},
   "source": [
    "### 7"
   ]
  },
  {
   "cell_type": "markdown",
   "metadata": {},
   "source": [
    "### 8\n",
    "\n",
    "number of false positives: confusion[1, 0]\n",
    "just need to edit this threshold posteriors[0] > 0.8 \n",
    "!! nothing changed with diff threshold"
   ]
  },
  {
   "cell_type": "code",
   "execution_count": 61,
   "metadata": {},
   "outputs": [
    {
     "name": "stdout",
     "output_type": "stream",
     "text": [
      "Classifier 1 (train):\n",
      "Accuracy: 0.956\n",
      "Confusion Matrix:\n",
      " [[845.  29.]\n",
      " [ 15. 111.]]\n",
      "Classifier 2 (train2):\n",
      "Accuracy: 0.963\n",
      "Confusion Matrix:\n",
      " [[857.  34.]\n",
      " [  3. 106.]]\n"
     ]
    }
   ],
   "source": [
    "# Evaluate classifiers on the validation set with adjusted threshold for producing less false positive\n",
    "\n",
    "accuracy1_adj, confusion1_adj = classifier1.score(validation_messages, validation_labels)\n",
    "accuracy2_adj, confusion2_adj = classifier2.score(validation_messages, validation_labels)\n",
    "\n",
    "print(\"Classifier 1 (train):\")\n",
    "print(\"Accuracy:\", accuracy1_adj)\n",
    "print(\"Confusion Matrix:\\n\", confusion1_adj)\n",
    "\n",
    "print(\"Classifier 2 (train2):\")\n",
    "print(\"Accuracy:\", accuracy2_adj)\n",
    "print(\"Confusion Matrix:\\n\", confusion2_adj)"
   ]
  },
  {
   "cell_type": "markdown",
   "metadata": {},
   "source": [
    "### 9"
   ]
  },
  {
   "cell_type": "code",
   "execution_count": 40,
   "metadata": {},
   "outputs": [],
   "source": [
    "class NaiveBayesForSpam2:\n",
    "    def train(self, hamMessages, spamMessages):\n",
    "        self.words = set(' '.join(hamMessages + spamMessages).split())\n",
    "        self.priors = np.zeros(2)\n",
    "        self.priors[0] = float(len(hamMessages)) / (len(hamMessages) + len(spamMessages))\n",
    "        self.priors[1] = 1.0 - self.priors[0]\n",
    "        self.likelihoods = []\n",
    "        for i, w in enumerate(self.words):\n",
    "            prob1 = (1.0 + len([m for m in hamMessages if w in m])) / len(hamMessages)\n",
    "            prob2 = (1.0 + len([m for m in spamMessages if w in m])) / len(spamMessages)\n",
    "            self.likelihoods.append([min(prob1, 0.95), min(prob2, 0.95)])\n",
    "        self.likelihoods = np.array(self.likelihoods).T\n",
    "\n",
    "    def train2(self, hamMessages, spamMessages):\n",
    "        self.words = set(' '.join(hamMessages + spamMessages).split())\n",
    "        self.priors = np.zeros(2)\n",
    "        self.priors[0] = float(len(hamMessages)) / (len(hamMessages) + len(spamMessages))\n",
    "        self.priors[1] = 1.0 - self.priors[0]\n",
    "        self.likelihoods = []\n",
    "        spamkeywords = []\n",
    "        for i, w in enumerate(self.words):\n",
    "            prob1 = (1.0 + len([m for m in hamMessages if w in m])) / len(hamMessages)\n",
    "            prob2 = (1.0 + len([m for m in spamMessages if w in m])) / len(spamMessages)\n",
    "            if prob1 * 20 < prob2:\n",
    "                self.likelihoods.append([min(prob1, 0.95), min(prob2, 0.95)])\n",
    "                spamkeywords.append(w)\n",
    "        self.words = spamkeywords\n",
    "        self.likelihoods = np.array(self.likelihoods).T\n",
    "\n",
    "    def predict(self, message, censored_words=None):\n",
    "        if censored_words is None:\n",
    "            censored_words = []\n",
    "        posteriors = np.copy(self.priors)\n",
    "        for i, w in enumerate(self.words):\n",
    "            if w in censored_words:\n",
    "                continue  # Skip likelihood calculation for censored words\n",
    "            if w in message.lower():\n",
    "                posteriors *= self.likelihoods[:, i]\n",
    "            else:\n",
    "                posteriors *= np.ones(2) - self.likelihoods[:, i]\n",
    "            posteriors = posteriors / np.linalg.norm(posteriors)\n",
    "        if posteriors[0] > 0.5:\n",
    "            return ['ham', posteriors[0]]\n",
    "        return ['spam', posteriors[1]]\n",
    "\n",
    "    def score(self, messages, labels, censored_words=None):\n",
    "        confusion = np.zeros(4).reshape(2, 2)\n",
    "        for m, l in zip(messages, labels):\n",
    "            prediction = self.predict(m, censored_words=censored_words)[0]\n",
    "            if prediction == 'ham' and l == 'ham':\n",
    "                confusion[0, 0] += 1\n",
    "            elif prediction == 'ham' and l == 'spam':\n",
    "                confusion[0, 1] += 1\n",
    "            elif prediction == 'spam' and l == 'ham':\n",
    "                confusion[1, 0] += 1\n",
    "            elif prediction == 'spam' and l == 'spam':\n",
    "                confusion[1, 1] += 1\n",
    "        return (confusion[0, 0] + confusion[1, 1]) / float(confusion.sum()), confusion\n"
   ]
  },
  {
   "cell_type": "markdown",
   "metadata": {},
   "source": [
    "### 10\n"
   ]
  },
  {
   "cell_type": "code",
   "execution_count": 41,
   "metadata": {},
   "outputs": [
    {
     "name": "stdout",
     "output_type": "stream",
     "text": [
      "Training completed for both classifiers.\n"
     ]
    }
   ],
   "source": [
    "# Step 2: Train the classifiers\n",
    "\n",
    "classifier1 = NaiveBayesForSpam2()\n",
    "classifier1.train(training_hamMessages, training_spamMessages)\n",
    "\n",
    "\n",
    "classifier2 = NaiveBayesForSpam2()\n",
    "classifier2.train2(training_hamMessages, training_spamMessages)\n",
    "\n",
    "print(\"Training completed for both classifiers.\")\n",
    "\n"
   ]
  },
  {
   "cell_type": "code",
   "execution_count": 43,
   "metadata": {},
   "outputs": [
    {
     "name": "stdout",
     "output_type": "stream",
     "text": [
      "Classifier 1 (train) on test1 with censored words:\n",
      "Accuracy: 0.9688715953307393\n",
      "Confusion Matrix:\n",
      " [[1099.   29.]\n",
      " [  11.  146.]]\n",
      "Classifier 2 (train2) on test1 with censored words:\n",
      "Accuracy: 0.9735408560311284\n",
      "Confusion Matrix:\n",
      " [[1106.   30.]\n",
      " [   4.  145.]]\n"
     ]
    }
   ],
   "source": [
    "# Step 3: Evaluate classifiers on test1 with censored words\n",
    "test1_messages = test1_df[\"sms\"].tolist()\n",
    "test1_labels = test1_df[\"label\"].tolist()\n",
    "\n",
    "\n",
    "accuracy1, confusion1 = classifier1.score(test1_messages, test1_labels, censored_words=censored_list_test1)\n",
    "accuracy2, confusion2 = classifier2.score(test1_messages, test1_labels, censored_words=censored_list_test1)\n",
    "\n",
    "print(\"Classifier 1 (train) on test1 with censored words:\")\n",
    "print(\"Accuracy:\", accuracy1)\n",
    "print(\"Confusion Matrix:\\n\", confusion1)\n",
    "\n",
    "\n",
    "print(\"Classifier 2 (train2) on test1 with censored words:\")\n",
    "print(\"Accuracy:\", accuracy2)\n",
    "print(\"Confusion Matrix:\\n\", confusion2)\n",
    "\n"
   ]
  },
  {
   "cell_type": "markdown",
   "metadata": {},
   "source": [
    "### 11"
   ]
  },
  {
   "cell_type": "code",
   "execution_count": 44,
   "metadata": {},
   "outputs": [
    {
     "name": "stdout",
     "output_type": "stream",
     "text": [
      "Classifier 1 (train) on test2 with censored words:\n",
      "Accuracy: 0.9618973561430794\n",
      "Confusion Matrix:\n",
      " [[1091.   38.]\n",
      " [  11.  146.]]\n",
      "Classifier 2 (train2) on test12 with censored words:\n",
      "Accuracy: 0.9611197511664075\n",
      "Confusion Matrix:\n",
      " [[1098.   46.]\n",
      " [   4.  138.]]\n"
     ]
    }
   ],
   "source": [
    "# Step 3: Evaluate classifiers on test1 with censored words\n",
    "test2_messages = test2_df[\"sms\"].tolist()\n",
    "test2_labels = test2_df[\"label\"].tolist()\n",
    "\n",
    "\n",
    "accuracy1, confusion1 = classifier1.score(test2_messages, test2_labels, censored_words=censored_list_test2)\n",
    "accuracy2, confusion2 = classifier2.score(test2_messages, test2_labels, censored_words=censored_list_test2)\n",
    "\n",
    "print(\"Classifier 1 (train) on test2 with censored words:\")\n",
    "print(\"Accuracy:\", accuracy1)\n",
    "print(\"Confusion Matrix:\\n\", confusion1)\n",
    "\n",
    "\n",
    "print(\"Classifier 2 (train2) on test12 with censored words:\")\n",
    "print(\"Accuracy:\", accuracy2)\n",
    "print(\"Confusion Matrix:\\n\", confusion2)\n"
   ]
  }
 ],
 "metadata": {
  "kernelspec": {
   "display_name": "Python 3",
   "language": "python",
   "name": "python3"
  },
  "language_info": {
   "codemirror_mode": {
    "name": "ipython",
    "version": 3
   },
   "file_extension": ".py",
   "mimetype": "text/x-python",
   "name": "python",
   "nbconvert_exporter": "python",
   "pygments_lexer": "ipython3",
   "version": "3.11.4"
  }
 },
 "nbformat": 4,
 "nbformat_minor": 2
}
